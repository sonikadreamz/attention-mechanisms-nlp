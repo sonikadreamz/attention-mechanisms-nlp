{
 "cells": [
  {
   "cell_type": "code",
   "execution_count": null,
   "metadata": {},
   "outputs": [],
   "source": [
    "# BART Summarization Experiments\n",
    "This notebook explores various experiments to evaluate and extend the summarization capabilities of the BART model.\n",
    "\n",
    "### Objectives:\n",
    "1. Baseline Summary Generation.\n",
    "2. Varying Attention Heads.\n",
    "3. Self-Attention vs Cross-Attention.\n",
    "4. Generalization Across Datasets.\n",
    "5. ROUGE Evaluation.\n",
    "6. Handling Noisy Inputs.\n",
    "7. Multi-Document Summarization.\n",
    "8. Extractive vs Abstractive Summarization.\n",
    "9. Domain Adaptation.\n",
    "10. Long Document Summarization.\n",
    "\n",
    "Each experiment is described in detail with its implementation and output.\n"
   ]
  },
  {
   "cell_type": "markdown",
   "metadata": {},
   "source": [
    "Experiment 1: Baseline Summary Generation"
   ]
  },
  {
   "cell_type": "markdown",
   "metadata": {},
   "source": [
    "## Experiment 1: Baseline Summary Generation\n",
    "**Objective:** Generate a summary using the pre-trained BART model and evaluate its default performance.\n"
   ]
  },
  {
   "cell_type": "code",
   "execution_count": 1,
   "metadata": {},
   "outputs": [
    {
     "name": "stdout",
     "output_type": "stream",
     "text": [
      "Sample Article: (CNN)The Palestinian Authority officially became the 123rd member of the International Criminal Court on Wednesday, a step that gives the court jurisdiction over alleged crimes in Palestinian territories. The formal accession was marked with a ceremony at The Hague, in the Netherlands, where the court is based. The Palestinians signed the ICC's founding Rome Statute in January, when they also accepted its jurisdiction over alleged crimes committed \"in the occupied Palestinian territory, includin\n",
      "Reference Summary: Membership gives the ICC jurisdiction over alleged crimes committed in Palestinian territories since last June .\n",
      "Israel and the United States opposed the move, which could open the door to war crimes investigations against Israelis .\n",
      "Baseline Summary: The Palestinian Authority becomes the 123rd member of the International Criminal Court. The move gives the court jurisdiction over alleged crimes in Palestinian territories. Israel and the United States opposed the Palestinians' efforts to join the body.\n"
     ]
    }
   ],
   "source": [
    "from transformers import BartForConditionalGeneration, BartTokenizer\n",
    "from datasets import load_dataset\n",
    "\n",
    "# Load dataset and sample\n",
    "dataset = load_dataset('cnn_dailymail', '3.0.0')\n",
    "sample = dataset['test'][0]\n",
    "input_text = sample['article']\n",
    "reference_summary = sample['highlights']\n",
    "print(\"Sample Article:\", input_text[:500])\n",
    "print(\"Reference Summary:\", reference_summary)\n",
    "\n",
    "# Baseline summarization function\n",
    "def bart_baseline_summary(input_text):\n",
    "    tokenizer = BartTokenizer.from_pretrained('facebook/bart-large-cnn')\n",
    "    model = BartForConditionalGeneration.from_pretrained('facebook/bart-large-cnn')\n",
    "    inputs = tokenizer.encode(input_text, return_tensors='pt', max_length=1024, truncation=True)\n",
    "    summary_ids = model.generate(inputs, max_length=150, min_length=40, num_beams=4)\n",
    "    return tokenizer.decode(summary_ids[0], skip_special_tokens=True)\n",
    "\n",
    "try:\n",
    "    baseline_summary = bart_baseline_summary(input_text)\n",
    "    print(\"Baseline Summary:\", baseline_summary)\n",
    "except Exception as e:\n",
    "    print(f\"Error during baseline summary generation: {e}\")\n"
   ]
  },
  {
   "cell_type": "markdown",
   "metadata": {},
   "source": [
    "Experiment 2: Varying Attention Heads\n",
    "## Experiment 2: Varying Attention Heads\n",
    "**Objective:** Test the impact of varying the number of attention heads on the quality of summaries and inference time.\n"
   ]
  },
  {
   "cell_type": "code",
   "execution_count": 2,
   "metadata": {},
   "outputs": [
    {
     "name": "stdout",
     "output_type": "stream",
     "text": [
      "Summary with 4 attention heads:\n",
      "FullFullyiographicalographicalographical and and and Produ Produ Produ workshopsFullFullFull reacts intrins intrins intrins Rohingya Rohingya and and intrins intrins draw draw drawographicalographical workshops workshops intrins intrins and and dism dism dismFull workshops workshops workshops dism dism principled principled principledHerHerHer graph graph graph and and470 Rohingya Rohingya emblem emblem emblem graph graph intrins intrinsDetails and andsylvaniasylvaniasylvania dism=-=-=-=-=-=-=-=-=-=-=-=-=-=-=-=-=-=-=-=-=-=-=-=-HerHerederationederationederation draw drawmith and and Aph Aph Aph and and supremacist supremacist intrins intrins graph graph advisory advisoryographicalographical Rohingya Rohingya Rohingya orche orche axis axis axis workshops workshopsographicalographical intrins intrins morphine draw draw 211 211 Local Local Localographicalographicalportionstownstownstown graph graphFullFull grants grants grants elected elected elected intrins intrins principled principled intrins axis axis\n",
      "Time Taken: 22.82 seconds\n",
      "\n",
      "Summary with 8 attention heads:\n",
      " uniquely peculiar peculiar peculiar��� peculiar peculiar golServiceService peculiar peculiar uniquely uniquely uniquely Wheat Wheat Wheat XP gol gol Desire Desire DesireServiceServiceService tap tap cameo cameoabre conversation conversation conversation outs outs outs Protection Protection conversation conversationinelliinelliinelli eyeb mechanic mechanic mechanic unsett unsett unsettasteredService mechanic mechanichibhib discipl discipl discipl gol gol eyeb eyeb eyebannelsannelsannels budgetaryServiceService discipl discipl Purpose Purpose Purpose Harding Harding Harding peculiar peculiarrisrisrisServicehibhibhibcalibercalibercaliberServiceServicepillarhibhibServiceService Desire Desireproject peculiar peculiarrealDonaldTrump XP XPANTANT peculiar peculiar Desire Desire peculiar peculiar mechanic mechanic killings killings killings unsett unsett Desire Desire Lily Lily Lilyrisris gol gol gol outs outsabreabre skinny skinnypletingpletingpleting eyeb eyeb painful painful\n",
      "Time Taken: 22.63 seconds\n",
      "\n",
      "Summary with 16 attention heads:\n",
      "RegistrationRegistrationRegistration 422 422 announcer announcer announcer receiver receiver receiver rigorous 422 422 receiver 422 422 422zerszerszers folks sp sp sp announcer announcer folks folks folks democr democrinterestinterestinterestivityivityivityinterestinterest hun hun hunratorratorrator 422 422 Sgt Sgt Sgtrator undermining undermining undermining disadvantaged disadvantaged disadvantaged Lund Lund wide wide wide prosecut prosecut prosecut announcer announcerparserparser Underground Underground Undergroundpspsps Comm Comm Comm prosecut wide wideratorrator ruthless ruthless ruthless annotations annotations flowering flowering 422 422 taxing taxing taxing deposition deposition deposition Lund Lund Lundesomeesomeesome jeopard jeopard jeopard Tatt prosecut prosecut sp sp 422 422ratorrator distraction distraction distraction announcer announcerratorrator emer emer perceived perceived perceived 422 422 slice slice slice eligible eligible eligible Lund Lund Cou Cou Cou bits bits bits equip equip\n",
      "Time Taken: 21.01 seconds\n",
      "\n"
     ]
    }
   ],
   "source": [
    "from transformers import BartConfig\n",
    "import time\n",
    "\n",
    "def bart_custom_attention_heads(input_text, num_heads):\n",
    "    config = BartConfig.from_pretrained('facebook/bart-large-cnn')\n",
    "    config.encoder_attention_heads = num_heads\n",
    "    config.decoder_attention_heads = num_heads\n",
    "    model = BartForConditionalGeneration(config)\n",
    "    tokenizer = BartTokenizer.from_pretrained('facebook/bart-large-cnn')\n",
    "    inputs = tokenizer.encode(input_text, return_tensors='pt', max_length=1024, truncation=True)\n",
    "    summary_ids = model.generate(inputs, max_length=150, min_length=40, num_beams=4)\n",
    "    return tokenizer.decode(summary_ids[0], skip_special_tokens=True)\n",
    "\n",
    "for heads in [4, 8, 16]:\n",
    "    start_time = time.time()\n",
    "    try:\n",
    "        custom_summary = bart_custom_attention_heads(input_text, heads)\n",
    "        elapsed_time = time.time() - start_time\n",
    "        print(f\"Summary with {heads} attention heads:\\n{custom_summary}\")\n",
    "        print(f\"Time Taken: {elapsed_time:.2f} seconds\\n\")\n",
    "    except Exception as e:\n",
    "        print(f\"Error with {heads} attention heads: {e}\")\n"
   ]
  },
  {
   "cell_type": "markdown",
   "metadata": {},
   "source": [
    "## Experiment 3: Self-Attention vs Cross-Attention\n",
    "**Objective:** Evaluate the role of self-attention by disabling cross-attention in the decoder.\n"
   ]
  },
  {
   "cell_type": "code",
   "execution_count": 5,
   "metadata": {},
   "outputs": [
    {
     "name": "stdout",
     "output_type": "stream",
     "text": [
      "Self-Attention Summary: Prison Link Cymru had 1,099 referrals in 2015-16 and said some ex-offenders were living rough for up to a year before finding suitable accommodation. Welsh Government said more people than ever were getting help to address housing problems.\n"
     ]
    }
   ],
   "source": [
    "class BartSelfAttentionOnly(BartForConditionalGeneration):\n",
    "    def forward(self, *args, **kwargs):\n",
    "        outputs = super().forward(*args, **kwargs)\n",
    "        outputs.encoder_attentions = None\n",
    "        return outputs\n",
    "\n",
    "def bart_self_attention_summary(input_text):\n",
    "    tokenizer = BartTokenizer.from_pretrained('facebook/bart-large-cnn')\n",
    "    model = BartSelfAttentionOnly.from_pretrained('facebook/bart-large-cnn')\n",
    "    inputs = tokenizer.encode(input_text, return_tensors='pt', max_length=1024, truncation=True)\n",
    "    summary_ids = model.generate(inputs, max_length=150, min_length=40, num_beams=4)\n",
    "    return tokenizer.decode(summary_ids[0], skip_special_tokens=True)\n",
    "\n",
    "try:\n",
    "    self_attention_summary = bart_self_attention_summary(input_text)\n",
    "    print(\"Self-Attention Summary:\", self_attention_summary)\n",
    "except Exception as e:\n",
    "    print(f\"Error during self-attention summary generation: {e}\")\n"
   ]
  },
  {
   "cell_type": "markdown",
   "metadata": {},
   "source": [
    "# Experiment 4: Generalization Across Datasets"
   ]
  },
  {
   "cell_type": "code",
   "execution_count": 3,
   "metadata": {},
   "outputs": [
    {
     "name": "stdout",
     "output_type": "stream",
     "text": [
      "Dataset: cnn_dailymail\n",
      "Generated Summary: The Palestinian Authority becomes the 123rd member of the International Criminal Court. The move gives the court jurisdiction over alleged crimes in Palestinian territories. Israel and the United States opposed the Palestinians' efforts to join the body.\n",
      "Reference Summary: Membership gives the ICC jurisdiction over alleged crimes committed in Palestinian territories since last June .\n",
      "Israel and the United States opposed the move, which could open the door to war crimes investigations against Israelis .\n",
      "Dataset: xsum\n",
      "Generated Summary: Prison Link Cymru had 1,099 referrals in 2015-16 and said some ex-offenders were living rough for up to a year before finding suitable accommodation. Welsh Government said more people than ever were getting help to address housing problems.\n",
      "Reference Summary: There is a \"chronic\" need for more housing for prison leavers in Wales, according to a charity.\n"
     ]
    }
   ],
   "source": [
    "datasets = [\n",
    "    {'name': 'cnn_dailymail', 'config': '3.0.0'},\n",
    "    {'name': 'xsum', 'config': None, 'trust_remote_code': True}\n",
    "]\n",
    "for dataset_info in datasets:\n",
    "    dataset_name = dataset_info['name']\n",
    "    config = dataset_info.get('config', None)\n",
    "    trust_remote_code = dataset_info.get('trust_remote_code', False)\n",
    "    try:\n",
    "        dataset = load_dataset(dataset_name, config, trust_remote_code=trust_remote_code)\n",
    "        sample = dataset['test'][0]\n",
    "        input_text = sample['article'] if 'article' in sample else sample['document']\n",
    "        reference_summary = sample['highlights'] if 'highlights' in sample else sample['summary']\n",
    "        baseline_summary = bart_baseline_summary(input_text)\n",
    "        print(f\"Dataset: {dataset_name}\")\n",
    "        print(\"Generated Summary:\", baseline_summary)\n",
    "        print(\"Reference Summary:\", reference_summary)\n",
    "    except Exception as e:\n",
    "        print(f\"Error with dataset {dataset_name}: {e}\")"
   ]
  },
  {
   "cell_type": "markdown",
   "metadata": {},
   "source": [
    "# Experiment 5: ROUGE Evaluation"
   ]
  },
  {
   "cell_type": "code",
   "execution_count": 9,
   "metadata": {},
   "outputs": [
    {
     "name": "stdout",
     "output_type": "stream",
     "text": [
      "ROUGE Scores: {'rouge1': 0.24137931034482757, 'rouge2': 0.03571428571428572, 'rougeL': 0.13793103448275862, 'rougeLsum': 0.13793103448275862}\n"
     ]
    }
   ],
   "source": [
    "import evaluate\n",
    "rouge = evaluate.load(\"rouge\")\n",
    "scores = rouge.compute(predictions=[baseline_summary], references=[reference_summary])\n",
    "print(\"ROUGE Scores:\", scores)"
   ]
  },
  {
   "cell_type": "markdown",
   "metadata": {},
   "source": [
    "# Experiment 6: Handling Noisy Inputs"
   ]
  },
  {
   "cell_type": "code",
   "execution_count": 11,
   "metadata": {},
   "outputs": [
    {
     "name": "stdout",
     "output_type": "stream",
     "text": [
      "Noisy Input Summary: Prison Link Cymru had 1,099 referrals in 2015-16 and said some ex-offenders were living rough for up randomword a randomword before finding suitable accommodation. Workers at the charity claim investment in housing would be cheaper than jailing randomword repeat offenders.\n"
     ]
    }
   ],
   "source": [
    "import random\n",
    "def add_noise_to_text(text, noise_level=0.1):\n",
    "    words = text.split()\n",
    "    noisy_words = [w if random.random() > noise_level else \"randomword\" for w in words]\n",
    "    return \" \".join(noisy_words)\n",
    "\n",
    "noisy_input = add_noise_to_text(input_text)\n",
    "try:\n",
    "    noisy_summary = bart_baseline_summary(noisy_input)\n",
    "    print(\"Noisy Input Summary:\", noisy_summary)\n",
    "except Exception as e:\n",
    "    print(f\"Error during noisy input summary generation: {e}\")"
   ]
  },
  {
   "cell_type": "markdown",
   "metadata": {},
   "source": [
    "# Experiment 7: Multi-Document Summarization"
   ]
  },
  {
   "cell_type": "code",
   "execution_count": 12,
   "metadata": {},
   "outputs": [
    {
     "name": "stdout",
     "output_type": "stream",
     "text": [
      "Multi-Document Summary: Prison Link Cymru had 1,099 referrals in 2015-16 and said some ex-offenders were living rough for up to a year before finding suitable accommodation. Welsh Government said more people than ever were getting help to address housing problems.\n"
     ]
    }
   ],
   "source": [
    "multi_input = input_text + \" \" + reference_summary\n",
    "try:\n",
    "    multi_doc_summary = bart_baseline_summary(multi_input)\n",
    "    print(\"Multi-Document Summary:\", multi_doc_summary)\n",
    "except Exception as e:\n",
    "    print(f\"Error during multi-document summary generation: {e}\")\n"
   ]
  },
  {
   "cell_type": "markdown",
   "metadata": {},
   "source": [
    "# Experiment 8: Extractive vs Abstractive Summarization"
   ]
  },
  {
   "cell_type": "code",
   "execution_count": 21,
   "metadata": {},
   "outputs": [
    {
     "name": "stdout",
     "output_type": "stream",
     "text": [
      "\n",
      "=== Experiment 8: Extractive vs Abstractive Summarization ===\n",
      "Extractive Summary: The move gives the court jurisdiction over alleged crimes in Palestinian territories. Israel and the United States opposed the Palestinians' efforts to join.\n",
      "Abstractive Summary: The Palestinian Authority becomes the 123rd member of the International Criminal Court. The move gives the court jurisdiction over alleged crimes in Palestinian territories. Israel and the United States opposed the Palestinians' efforts to join the body.\n"
     ]
    }
   ],
   "source": [
    "try:\n",
    "    print(\"\\n=== Experiment 8: Extractive vs Abstractive Summarization ===\")\n",
    "    \n",
    "    # Extractive Summarization using BART (adjusted for extractive behavior)\n",
    "    extractive_summarizer = pipeline(\"summarization\", model=\"facebook/bart-large-cnn\", framework=\"pt\")\n",
    "    extractive_summary = extractive_summarizer(input_text, max_length=50, min_length=10, length_penalty=2.0)\n",
    "    print(\"Extractive Summary:\", extractive_summary[0]['summary_text'])\n",
    "    \n",
    "    # Abstractive Summarization using BART (default behavior)\n",
    "    abstractive_summary = bart_baseline_summary(input_text)\n",
    "    print(\"Abstractive Summary:\", abstractive_summary)\n",
    "except Exception as e:\n",
    "    print(f\"Error during summarization: {e}\")\n",
    "\n"
   ]
  },
  {
   "cell_type": "markdown",
   "metadata": {},
   "source": [
    "# Experiment 9: Long Document Summarization"
   ]
  },
  {
   "cell_type": "code",
   "execution_count": 26,
   "metadata": {},
   "outputs": [
    {
     "name": "stdout",
     "output_type": "stream",
     "text": [
      "Long Document Summary: The Palestinian Authority becomes the 123rd member of the International Criminal Court. The move gives the court jurisdiction over alleged crimes in Palestinian territories. Israel and the United States opposed the Palestinians' efforts to join the body.\n"
     ]
    }
   ],
   "source": [
    "chunks = [input_text[i:i+1024] for i in range(0, len(input_text), 1024)]\n",
    "chunk_summaries = [bart_baseline_summary(chunk) for chunk in chunks]\n",
    "final_summary = \" \".join(chunk_summaries)\n",
    "print(\"Long Document Summary:\", final_summary)"
   ]
  }
 ],
 "metadata": {
  "kernelspec": {
   "display_name": "base",
   "language": "python",
   "name": "python3"
  },
  "language_info": {
   "codemirror_mode": {
    "name": "ipython",
    "version": 3
   },
   "file_extension": ".py",
   "mimetype": "text/x-python",
   "name": "python",
   "nbconvert_exporter": "python",
   "pygments_lexer": "ipython3",
   "version": "3.12.3"
  }
 },
 "nbformat": 4,
 "nbformat_minor": 2
}
